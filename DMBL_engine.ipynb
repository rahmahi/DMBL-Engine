{
 "cells": [
  {
   "cell_type": "markdown",
   "id": "464354fc-2f51-4d4a-ac0d-f85fe97795ff",
   "metadata": {},
   "source": [
    "# Quantum Engine Engineered through DMBL Phase Cross-over\n",
    "\n",
    " Mahub Rahaman, Analabha Roy"
   ]
  },
  {
   "cell_type": "markdown",
   "id": "e1a2c461-2038-4877-aee5-48e463519ac7",
   "metadata": {},
   "source": [
    "# Introduction\n",
    "\n",
    "### Level Statistics \n",
    "\n",
    "\n",
    "The transition of phases has been of utmost importance in science. In many body systems, the collective nature of systems always tends to equilibrate over extended periods. This can be prevented by attaining a non-equilibrium state by constraining the initial state of the system indefinitely. The ultra-cold ion trapping approach has proven feasible both theoretically and empirically over the past few decades. \n",
    "\n",
    "Indroducing a controlled disorder can be used to localize the initial state of the many-body system; therefore, it is called many-body localization (MBL). However, in a clean system, we can also \"freeze\" the initial state. This is done by applying an engineered periodic field. In previous works, for systems like the Ising model and the XYZ type model, a transverse preriodic field was applied, which resulted in the emergence of freezing by virtue of the dynamics of the system. Additionally, in our previous work, we established a many-body localization from dynamics in a clean system (DMBL) detected through theinverse participation ratio (IPR), which is the gerneal definition of a localization for a quantum system.\n",
    "\n",
    "Studying the temporal variation of the corresponding order parameter of the system has been a common practice to investigate the phase transition. However, a more profound mathematical analysis is also adapted and implemented on a theoretical model. This is referred to as level statistics analysis. We will quickly outline the steps involved.\n",
    "\n",
    "Step 1. Get the Floquet-quasienergies ($\\epsilon_i$).\n",
    "\n",
    "Step 2. Sort it ascending order according to Pedro Ponte.\n",
    "\n",
    "Step 3. Take the adjuscent difference ($\\delta_i = \\epsilon_{i+1}- \\epsilon_i$) between two quasienergies and store it for all quasienergies in an array.\n",
    "\n",
    "Step 4. Find out min and max between two respective differences, such as min($\\delta_{i+1. \\delta_i}$) and max($\\delta_{i+1. \\delta_i}$).\n",
    "\n",
    "Step 5. Get ratio between min and max and store it by $r_i = \\frac{min}{max}$ for all possible $r_i$.\n",
    "\n",
    "Step 6. Average $\\langle r \\rangle = \\frac{1}{N}\\sum_i^N r_i$.\n",
    "\n",
    "ref:\n",
    "\n",
    "[1] https://doi.org/10.1103/PhysRevB.99.024203 \n",
    "\n",
    "[2] https://doi.org/10.1103/PhysRevLett.114.140401\n"
   ]
  },
  {
   "cell_type": "markdown",
   "id": "90983907-57ec-489b-87a6-a0b20063d67b",
   "metadata": {},
   "source": [
    "## First, we shall check if the statistics follows GOE and POE from histogram plots"
   ]
  },
  {
   "cell_type": "markdown",
   "id": "cb39663d-6c5c-4fcc-b3f0-b5ecbb2681d3",
   "metadata": {
    "tags": []
   },
   "source": [
    "# TSS"
   ]
  },
  {
   "cell_type": "code",
   "execution_count": 33,
   "id": "9870c6f1-f05a-45ca-a119-f343e5d2c23d",
   "metadata": {
    "tags": []
   },
   "outputs": [
    {
     "name": "stdout",
     "output_type": "stream",
     "text": [
      "running for TSS spin= 40  with 2  processors!\n",
      "CPU times: user 4.37 ms, sys: 28.6 ms, total: 33 ms\n",
      "Wall time: 2.66 s\n"
     ]
    },
    {
     "name": "stderr",
     "output_type": "stream",
     "text": [
      "<timed exec>:41: VisibleDeprecationWarning: Creating an ndarray from ragged nested sequences (which is a list-or-tuple of lists-or-tuples-or ndarrays with different lengths or shapes) is deprecated. If you meant to do this, you must specify 'dtype=object' when creating the ndarray.\n"
     ]
    }
   ],
   "source": [
    "%%time\n",
    "from tqdm import tqdm\n",
    "import numpy as np\n",
    "from qutip import tensor, sigmax, sigmay, sigmaz, qeye, mesolve, Options, jmat\n",
    "from qutip.floquet import floquet_modes\n",
    "from scipy.special import j0, jn_zeros\n",
    "import matplotlib.pyplot as plt\n",
    "from multiprocessing import Pool\n",
    "\n",
    "def drive(t, args):\n",
    "    h0, h, w = args['h0'], args['h'], args['omega']\n",
    "    return h0 + h * np.cos(w * t)\n",
    "\n",
    "def get_ham_tss(N):\n",
    "    sx,sy,sz = jmat(N,\"x\"), jmat(N,\"y\"), jmat(N,\"z\")\n",
    "    kn =  2.0/(N-1)   \n",
    "    H0 = kn * sx **2 \n",
    "    H1 = 2 * sz\n",
    "    return H0,H1,sx,sy,sz\n",
    "\n",
    "def run_floquet_tss(w,N, opts):    \n",
    "    freezing_pts = jn_zeros(0,5)\n",
    "    h = w/4 * freezing_pts[0]\n",
    "    params = {'h0':np.pi/64, 'h':h, 'omega':w, 'opts':opts}\n",
    "    \n",
    "    H0, H1, Sx, Sy, Sz = get_ham_tss(N)\n",
    "    T = 2 * np.pi/w\n",
    "    H = [H0,[H1,drive]]\n",
    "    f_modes_0, f_energies = floquet_modes(H, T, params, options=opts)\n",
    "    return w, f_modes_0, f_energies\n",
    "\n",
    "if __name__ == '__main__':\n",
    "    nprocs = 2\n",
    "    opts = Options(nsteps=1e6)    \n",
    "    \n",
    "    N = 40\n",
    "    ws = [0.5, 90.0]\n",
    "        \n",
    "    p = Pool(processes = nprocs)\n",
    "    print(\"running for TSS spin=\",N,\" with\", nprocs,\" processors!\")\n",
    "    \n",
    "    flq_tss = np.array(p.starmap(run_floquet_tss,[(w,N, opts) for w in ws]))"
   ]
  },
  {
   "cell_type": "code",
   "execution_count": 34,
   "id": "8f0f4867-4561-4332-a6dd-0e3773c9e635",
   "metadata": {
    "tags": []
   },
   "outputs": [
    {
     "data": {
      "image/png": "[encoded data removed]",
      "text/plain": [
       "<Figure size 750x300 with 2 Axes>"
      ]
     },
     "metadata": {},
     "output_type": "display_data"
    }
   ],
   "source": [
    "from matplotlib.gridspec import GridSpec\n",
    "plt.rcParams.update({\"figure.figsize\": (7.5, 3),\"text.usetex\": True,\"font.family\": \"sans-serif\",\n",
    "    \"font.size\": 14,\"font.sans-serif\": [\"Helvetica\"], \"axes.edgecolor\": \"black\", \"axes.linewidth\": 1.0})\n",
    "\n",
    "\n",
    "fig, axs = plt.subplots(1, 2, sharey=True, sharex=False)\n",
    "plt.subplots_adjust(wspace=0.01)\n",
    "\n",
    "for i in range(2):\n",
    "    w = flq_tss[i][0]\n",
    "    modes = np.array(flq_tss[i][1])[:,:,0]\n",
    "    qe = np.array(flq_tss[i][2])\n",
    "    axs[i].hist(qe, 20, label=fr'$\\omega={w:1.1f}$')\n",
    "    axs[i].legend(frameon = False, fontsize=10)    \n",
    "plt.show()"
   ]
  },
  {
   "cell_type": "markdown",
   "id": "8ecdc38c-d867-4157-a7e6-82a455f0442f",
   "metadata": {},
   "source": [
    "#  Hilbert Space"
   ]
  },
  {
   "cell_type": "code",
   "execution_count": 37,
   "id": "f41c8806-e714-4ed6-85e6-4953ccd093f1",
   "metadata": {
    "tags": []
   },
   "outputs": [
    {
     "name": "stdout",
     "output_type": "stream",
     "text": [
      "running for Hilbert space: 7  with 2  processors!\n",
      "CPU times: user 12.1 ms, sys: 24.4 ms, total: 36.5 ms\n",
      "Wall time: 1.4 s\n"
     ]
    },
    {
     "name": "stderr",
     "output_type": "stream",
     "text": [
      "<timed exec>:62: VisibleDeprecationWarning: Creating an ndarray from ragged nested sequences (which is a list-or-tuple of lists-or-tuples-or ndarrays with different lengths or shapes) is deprecated. If you meant to do this, you must specify 'dtype=object' when creating the ndarray.\n"
     ]
    }
   ],
   "source": [
    "%%time\n",
    "from tqdm import tqdm\n",
    "import numpy as np\n",
    "from qutip import tensor, sigmax, sigmay, sigmaz, qeye, mesolve, Options, jmat\n",
    "from qutip.floquet import floquet_modes\n",
    "from scipy.special import j0, jn_zeros\n",
    "import matplotlib.pyplot as plt\n",
    "from multiprocessing import Pool\n",
    "from qutip import *\n",
    "\n",
    "def drive(t, args):\n",
    "    h0, h, w = args['h0'], args['h'], args['omega']\n",
    "    return h0 + h * np.cos(w * t)\n",
    "\n",
    "def get_hilbert_zzx(N):\n",
    "    sigx = sigmax()\n",
    "    sigy = sigmay()\n",
    "    sigz = sigmaz()\n",
    "    H0, H1, sx, sy, sz = [], [], [], [], []\n",
    "    \n",
    "    for i in range(N-1):\n",
    "        for j in range(i+1,N):\n",
    "            H0.append(np.array((tensor(qeye(2**(i-0)),\\\n",
    "                          tensor(sigx,tensor(qeye(2**(j-i-1)),tensor(sigx,qeye(2**(N-1-j))))))).full())) \n",
    "    \n",
    "    for i in range(N):\n",
    "        sx.append(np.array((tensor(qeye(2**(i-0)),tensor(sigx,qeye(2**(N-1-i))))).full()))\n",
    "        \n",
    "    for i in range(N):\n",
    "        sy.append(np.array((tensor(qeye(2**(i-0)),tensor(sigy,qeye(2**(N-1-i))))).full()))\n",
    "        \n",
    "    for i in range(N):\n",
    "        sz.append(np.array((tensor(qeye(2**(i-0)),tensor(sigz,qeye(2**(N-1-i))))).full()))\n",
    "            \n",
    "    kacN = 2/(N-1)\n",
    "    \n",
    "    H0 = Qobj(kacN * np.sum(H0, axis =0))\n",
    "    H1 = Qobj(np.sum(sz, axis =0))\n",
    "    \n",
    "    return H0, H1, sx, sy, sz\n",
    "\n",
    "def run_floquet_hilbert(w,N, opts):    \n",
    "    freezing_pts = jn_zeros(0,5)\n",
    "    h = w/4 * freezing_pts[0]\n",
    "    params = {'h0':np.pi/32, 'h':h, 'omega':w, 'opts':opts}\n",
    "    \n",
    "    H0, H1, Sx, Sy, Sz = get_hilbert_zzx(N)\n",
    "    T = 2 * np.pi/w\n",
    "    H = [H0,[H1,drive]]\n",
    "    f_modes_0, f_energies = floquet_modes(H, T, params, options=opts)\n",
    "    return w, f_modes_0, f_energies\n",
    "\n",
    "if __name__ == '__main__':\n",
    "    nprocs = 2\n",
    "    opts = Options(nsteps=1e6)    \n",
    "    \n",
    "    N = 7\n",
    "    ws = [0.5, 90.0]\n",
    "        \n",
    "    p = Pool(processes = nprocs)\n",
    "    print(\"running for Hilbert space:\",N,\" with\", nprocs,\" processors!\")\n",
    "    \n",
    "    flq_hilbert = np.array(p.starmap(run_floquet_hilbert,[(w,N, opts) for w in ws]))"
   ]
  },
  {
   "cell_type": "code",
   "execution_count": 38,
   "id": "8f21f949-7b6b-491d-9542-313094815ffd",
   "metadata": {
    "tags": []
   },
   "outputs": [
    {
     "data": {
      "image/png": "[encoded data removed]",
      "text/plain": [
       "<Figure size 750x300 with 2 Axes>"
      ]
     },
     "metadata": {},
     "output_type": "display_data"
    }
   ],
   "source": [
    "from matplotlib.gridspec import GridSpec\n",
    "plt.rcParams.update({\"figure.figsize\": (7.5, 3),\"text.usetex\": True,\"font.family\": \"sans-serif\",\n",
    "    \"font.size\": 14,\"font.sans-serif\": [\"Helvetica\"], \"axes.edgecolor\": \"black\", \"axes.linewidth\": 1.0})\n",
    "\n",
    "\n",
    "fig, axs = plt.subplots(1, 2, sharey=True, sharex=False)\n",
    "plt.subplots_adjust(wspace=0.01)\n",
    "\n",
    "for i in range(2):\n",
    "    w = flq_hilbert[i][0]\n",
    "    modes = np.array(flq_hilbert[i][1])[:,:,0]\n",
    "    qe = np.array(flq_hilbert[i][2])\n",
    "    axs[i].hist(qe, 20, label=fr'$\\omega={w:1.1f}$')\n",
    "    axs[i].legend(frameon = False, fontsize=10)    \n",
    "plt.show()"
   ]
  },
  {
   "cell_type": "markdown",
   "id": "ea7cf626-1b50-4ef7-8d0e-9cc6152312d0",
   "metadata": {},
   "source": [
    "# Plot them together TSS and Hilbert"
   ]
  },
  {
   "cell_type": "code",
   "execution_count": 41,
   "id": "d8aeb4fe-739c-46c2-af45-c0bd4a239c1e",
   "metadata": {
    "tags": []
   },
   "outputs": [
    {
     "name": "stdout",
     "output_type": "stream",
     "text": [
      "running for TSS spin= 30  with 2  processors!\n"
     ]
    },
    {
     "name": "stderr",
     "output_type": "stream",
     "text": [
      "<timed exec>:84: VisibleDeprecationWarning: Creating an ndarray from ragged nested sequences (which is a list-or-tuple of lists-or-tuples-or ndarrays with different lengths or shapes) is deprecated. If you meant to do this, you must specify 'dtype=object' when creating the ndarray.\n"
     ]
    },
    {
     "name": "stdout",
     "output_type": "stream",
     "text": [
      "running for Hilbert spin= 5  with 2  processors!\n",
      "CPU times: user 5.39 ms, sys: 55.6 ms, total: 61 ms\n",
      "Wall time: 2.03 s\n"
     ]
    },
    {
     "name": "stderr",
     "output_type": "stream",
     "text": [
      "<timed exec>:90: VisibleDeprecationWarning: Creating an ndarray from ragged nested sequences (which is a list-or-tuple of lists-or-tuples-or ndarrays with different lengths or shapes) is deprecated. If you meant to do this, you must specify 'dtype=object' when creating the ndarray.\n"
     ]
    }
   ],
   "source": [
    "%%time\n",
    "from tqdm import tqdm\n",
    "import numpy as np\n",
    "from qutip import tensor, sigmax, sigmay, sigmaz, qeye, mesolve, Options, jmat\n",
    "from qutip.floquet import floquet_modes\n",
    "from scipy.special import j0, jn_zeros\n",
    "import matplotlib.pyplot as plt\n",
    "from multiprocessing import Pool\n",
    "\n",
    "def drive(t, args):\n",
    "    h0, h, w = args['h0'], args['h'], args['omega']\n",
    "    return h0 + h * np.cos(w * t)\n",
    "\n",
    "def get_ham_tss(N):\n",
    "    sx,sy,sz = jmat(N,\"x\"), jmat(N,\"y\"), jmat(N,\"z\")\n",
    "    kn =  2.0/(N-1)   \n",
    "    H0 = kn * sx **2\n",
    "    H1 = 2 * sz\n",
    "    return H0,H1,sx,sy,sz\n",
    "\n",
    "def get_hilbert_zzx(N):\n",
    "    sigx = sigmax()\n",
    "    sigy = sigmay()\n",
    "    sigz = sigmaz()\n",
    "    H0, H1, sx, sy, sz = [], [], [], [], []\n",
    "    \n",
    "    for i in range(N-1):\n",
    "        for j in range(i+1,N):\n",
    "            H0.append(np.array((tensor(qeye(2**(i-0)),\\\n",
    "                          tensor(sigx,tensor(qeye(2**(j-i-1)),tensor(sigx,qeye(2**(N-1-j))))))).full())) \n",
    "    \n",
    "    for i in range(N):\n",
    "        sx.append(np.array((tensor(qeye(2**(i-0)),tensor(sigx,qeye(2**(N-1-i))))).full()))\n",
    "        \n",
    "    for i in range(N):\n",
    "        sy.append(np.array((tensor(qeye(2**(i-0)),tensor(sigy,qeye(2**(N-1-i))))).full()))\n",
    "        \n",
    "    for i in range(N):\n",
    "        sz.append(np.array((tensor(qeye(2**(i-0)),tensor(sigz,qeye(2**(N-1-i))))).full()))\n",
    "            \n",
    "    kacN = 2/(N-1)\n",
    "    \n",
    "    H0 = Qobj(kacN * np.sum(H0, axis =0))\n",
    "    H1 = Qobj(np.sum(sz, axis =0))\n",
    "    \n",
    "    return H0, H1, sx, sy, sz\n",
    "\n",
    "\n",
    "def run_floquet_tss(w,N, opts):    \n",
    "    freezing_pts = jn_zeros(0,5)\n",
    "    h = w/4 * freezing_pts[0]\n",
    "    params = {'h0':np.pi/64, 'h':h, 'omega':w, 'opts':opts}\n",
    "    \n",
    "    H0, H1, Sx, Sy, Sz = get_ham_tss(N)\n",
    "    T = 2 * np.pi/w\n",
    "    H = [H0,[H1,drive]]\n",
    "    f_modes_0, f_energies = floquet_modes(H, T, params, options=opts)\n",
    "    return w, f_modes_0, f_energies, N\n",
    "\n",
    "def run_floquet_hilbert(w,N, opts):    \n",
    "    freezing_pts = jn_zeros(0,5)\n",
    "    h = w/4 * freezing_pts[0]\n",
    "    params = {'h0':np.pi/64, 'h':h, 'omega':w, 'opts':opts}\n",
    "    \n",
    "    H0, H1, Sx, Sy, Sz = get_hilbert_zzx(N)\n",
    "    T = 2 * np.pi/w\n",
    "    H = [H0,[H1,drive]]\n",
    "    f_modes_0, f_energies = floquet_modes(H, T, params, options=opts)\n",
    "    return w, f_modes_0, f_energies, N\n",
    "\n",
    "if __name__ == '__main__':\n",
    "    nprocs = 2\n",
    "    opts = Options(nsteps=1e5)    \n",
    "    \n",
    "    size = 5\n",
    "    \n",
    "    # TSS\n",
    "    #N = size * 2\n",
    "    N = 30\n",
    "    ws = [0.3, 90.0]\n",
    "        \n",
    "    p = Pool(processes = nprocs)\n",
    "    print(\"running for TSS spin=\",N,\" with\", nprocs,\" processors!\")\n",
    "    \n",
    "    flq_tss = np.array(p.starmap(run_floquet_tss,[(w,N, opts) for w in ws]))    \n",
    "    #Hilbert\n",
    "    N = size\n",
    "    \n",
    "    p = Pool(processes = nprocs)\n",
    "    print(\"running for Hilbert spin=\",N,\" with\", nprocs,\" processors!\")\n",
    "    flq_hilbert = np.array(p.starmap(run_floquet_hilbert,[(w,N, opts) for w in ws]))"
   ]
  },
  {
   "cell_type": "code",
   "execution_count": 49,
   "id": "1aa35063-0109-4470-a153-26010149adfa",
   "metadata": {
    "tags": []
   },
   "outputs": [
    {
     "data": {
      "image/png": "[encoded data removed]",
      "text/plain": [
       "<Figure size 1000x600 with 4 Axes>"
      ]
     },
     "metadata": {},
     "output_type": "display_data"
    }
   ],
   "source": [
    "from matplotlib.gridspec import GridSpec\n",
    "plt.rcParams.update({\"figure.figsize\": (10,6),\"text.usetex\": True,\"font.family\": \"sans-serif\",\n",
    "    \"font.size\": 12,\"font.sans-serif\": [\"Helvetica\"], \"axes.edgecolor\": \"black\", \"axes.linewidth\": 1.0})\n",
    "\n",
    "\n",
    "w = flq_tss[0][0]\n",
    "modes = np.array(flq_tss[0][1])[:,:,0]\n",
    "size = flq_tss[0][3]\n",
    "qe =np.array(flq_tss[0][2])\n",
    "\n",
    "ax1 = plt.subplot(2, 2, 1)\n",
    "ax1.hist(qe, bins=bns[0], label=fr'$\\omega={w:1.1f}$', color='brown',edgecolor='black')\n",
    "ax1.tick_params(which='both', axis=\"y\", direction=\"in\")\n",
    "ax1.tick_params(which='both', axis=\"x\", direction=\"in\")\n",
    "ax1.legend()\n",
    "ax1.set_ylabel(r\"frequency\")\n",
    "ax1.set_title(fr'TSS, size = ${size}$', fontsize= 14)\n",
    "\n",
    "w = flq_tss[1][0]\n",
    "modes = np.array(flq_tss[1][1])[:,:,0]\n",
    "size = flq_tss[1][3]\n",
    "qe = np.array(flq_tss[1][2])\n",
    "\n",
    "ax2 = plt.subplot(2, 2, 2,  sharey=ax1)\n",
    "ax2.hist(qe, bins=bns[1], label=fr'$\\omega={w:1.1f}$', color='brown',edgecolor='black')\n",
    "ax2.tick_params(which='both', axis=\"y\", direction=\"in\")\n",
    "ax2.tick_params(which='both', axis=\"x\", direction=\"in\")\n",
    "ax2.legend()\n",
    "\n",
    "w = flq_hilbert[0][0]\n",
    "modes = np.array(flq_hilbert[0][1])[:,:,0]\n",
    "size = flq_hilbert[0][3]\n",
    "qe1 = np.array(flq_hilbert[0][2])\n",
    "\n",
    "ax3 = plt.subplot(2, 2, 3)\n",
    "ax3.hist(qe1, bins=bns[0], label=fr'$\\omega={w:1.1f}$', color='grey',edgecolor='black')\n",
    "ax3.tick_params(which='both', axis=\"y\", direction=\"in\")\n",
    "ax3.tick_params(which='both', axis=\"x\", direction=\"in\")\n",
    "ax3.legend()\n",
    "ax3.set_ylabel(r\"frequency\")\n",
    "ax3.set_title(fr'Hilbert, size = ${size}$', fontsize= 14)\n",
    "\n",
    "w = flq_tss[1][0]\n",
    "modes = np.array(flq_tss[1][1])[:,:,0]\n",
    "size = flq_tss[1][3]\n",
    "qe1 = np.array(flq_tss[1][2])\n",
    "\n",
    "ax4 = plt.subplot(2, 2, 4,  sharey=ax3)\n",
    "ax4.hist(qe1, bins=bns[1], label=fr'$\\omega={w:1.1f}$', color='grey',edgecolor='black')\n",
    "ax4.tick_params(which='both', axis=\"y\", direction=\"in\")\n",
    "ax4.tick_params(which='both', axis=\"x\", direction=\"in\")\n",
    "ax4.legend()\n",
    "ax4.set_xlabel(r\"normalized quasi-energy interval\")\n",
    "\n",
    "plt.subplots_adjust(wspace=0.1, hspace=0.45)"
   ]
  },
  {
   "cell_type": "markdown",
   "id": "5c2729b3-15fc-4667-94be-67b2629e0f12",
   "metadata": {},
   "source": [
    "# Investigate LSR for Phase transtion"
   ]
  },
  {
   "cell_type": "code",
   "execution_count": 3,
   "id": "73625c3b-1664-4a71-814e-020970708bdb",
   "metadata": {
    "tags": []
   },
   "outputs": [
    {
     "name": "stdout",
     "output_type": "stream",
     "text": [
      "running for TSS spin= 10  with 8  processors!\n",
      "running for Hilbert spin= 3  with 8  processors!\n",
      "CPU times: user 129 ms, sys: 81.3 ms, total: 210 ms\n",
      "Wall time: 618 ms\n"
     ]
    },
    {
     "name": "stderr",
     "output_type": "stream",
     "text": [
      "<timed exec>:79: VisibleDeprecationWarning: Creating an ndarray from ragged nested sequences (which is a list-or-tuple of lists-or-tuples-or ndarrays with different lengths or shapes) is deprecated. If you meant to do this, you must specify 'dtype=object' when creating the ndarray.\n",
      "<timed exec>:84: VisibleDeprecationWarning: Creating an ndarray from ragged nested sequences (which is a list-or-tuple of lists-or-tuples-or ndarrays with different lengths or shapes) is deprecated. If you meant to do this, you must specify 'dtype=object' when creating the ndarray.\n"
     ]
    }
   ],
   "source": [
    "%%time\n",
    "from tqdm import tqdm\n",
    "import numpy as np\n",
    "from qutip import tensor, sigmax, sigmay, sigmaz, qeye, mesolve, Options, jmat, Qobj\n",
    "from qutip.floquet import floquet_modes\n",
    "from scipy.special import j0, jn_zeros\n",
    "import matplotlib.pyplot as plt\n",
    "from multiprocessing import Pool\n",
    "\n",
    "def drive(t, args):\n",
    "    h0, h, w = args['h0'], args['h'], args['omega']\n",
    "    return h0 + h * np.cos(w * t)\n",
    "\n",
    "def get_ham_tss(N):\n",
    "    sx, sy, sz = jmat(N,\"x\"), jmat(N,\"y\"), jmat(N,\"z\")\n",
    "    kn =  2.0/(N-1)   \n",
    "    H0 = kn * sx **2 \n",
    "    H1 = sz * 2\n",
    "    return H0, H1, sx, sy, sz\n",
    "\n",
    "def get_hilbert_xxz(N):\n",
    "    sigx = sigmax()\n",
    "    sigy = sigmay()\n",
    "    sigz = sigmaz()\n",
    "    H0, H1, sx, sy, sz = [], [], [], [], []\n",
    "    \n",
    "    for i in range(N-1):\n",
    "        for j in range(i+1,N):\n",
    "            H0.append(np.array((tensor(qeye(2**(i-0)),\\\n",
    "                          tensor(sigx,tensor(qeye(2**(j-i-1)),tensor(sigx,qeye(2**(N-1-j))))))).full())) \n",
    "    \n",
    "    for i in range(N):\n",
    "        sx.append(np.array((tensor(qeye(2**(i-0)),tensor(sigx,qeye(2**(N-1-i))))).full()))\n",
    "        \n",
    "    for i in range(N):\n",
    "        sy.append(np.array((tensor(qeye(2**(i-0)),tensor(sigy,qeye(2**(N-1-i))))).full()))\n",
    "        \n",
    "    for i in range(N):\n",
    "        sz.append(np.array((tensor(qeye(2**(i-0)),tensor(sigz,qeye(2**(N-1-i))))).full()))\n",
    "            \n",
    "    kacN = 2/(N-1)\n",
    "    H0 = Qobj(kacN * np.sum(H0, axis = 0))\n",
    "    H1 = Qobj(np.sum(sz, axis =0)) \n",
    "    return H0, H1, sx, sy, sz\n",
    "\n",
    "def run_floquet_tss(w,N, opts):    \n",
    "    freezing_pts = jn_zeros(0,5)\n",
    "    h = w/4 * freezing_pts[0]\n",
    "    params = {'h0':np.pi/64, 'h':h, 'omega':w, 'opts':opts}\n",
    "    \n",
    "    H0, H1, Sx, Sy, Sz = get_ham_tss(N)\n",
    "    T = 2 * np.pi/w\n",
    "    H = [H0,[H1,drive]]\n",
    "    f_modes_0, f_energies = floquet_modes(H, T, params, options=opts)\n",
    "    return w, f_modes_0, f_energies, n_t\n",
    "\n",
    "def run_floquet_hilbert(w,N, opts):    \n",
    "    freezing_pts = jn_zeros(0,5)\n",
    "    h = w/4 * freezing_pts[0]\n",
    "    params = {'h0':np.pi/64, 'h':h, 'omega':w, 'opts':opts}\n",
    "    \n",
    "    H0, H1, Sx, Sy, Sz = get_hilbert_xxz(N)\n",
    "    T = 2 * np.pi/w\n",
    "    \n",
    "    H = [H0,[H1,drive]]\n",
    "    f_modes_0, f_energies = floquet_modes(H, T, params, options=opts)\n",
    "    return w, f_modes_0, f_energies, n_h\n",
    "\n",
    "if __name__ == '__main__':\n",
    "    nprocs = 8\n",
    "    opts = Options(nsteps=1e5)  \n",
    "    p = Pool(processes = nprocs)    \n",
    "    \n",
    "    ws = np.linspace(2, 70, 30)           \n",
    "    n_t,  n_h = 10, 3\n",
    "    \n",
    "    # TSS\n",
    "    N = n_t\n",
    "    print(\"running for TSS spin=\",N,\" with\", nprocs,\" processors!\")\n",
    "    flq_tss = np.array(p.starmap(run_floquet_tss,[(w,N, opts) for w in ws]))    \n",
    "    \n",
    "    #Hilbert\n",
    "    N = n_h\n",
    "    print(\"running for Hilbert spin=\",N,\" with\", nprocs,\" processors!\")\n",
    "    flq_hilbert = np.array(p.starmap(run_floquet_hilbert,[(w,N, opts) for w in ws]))"
   ]
  },
  {
   "cell_type": "code",
   "execution_count": 8,
   "id": "d519cc66-9e1c-4735-a180-ee02e18e1ba1",
   "metadata": {
    "tags": []
   },
   "outputs": [
    {
     "data": {
      "image/png": "[encoded data removed]",
      "text/plain": [
       "<Figure size 1000x400 with 2 Axes>"
      ]
     },
     "metadata": {},
     "output_type": "display_data"
    },
    {
     "name": "stdout",
     "output_type": "stream",
     "text": [
      "CPU times: user 247 ms, sys: 3.42 ms, total: 250 ms\n",
      "Wall time: 258 ms\n"
     ]
    }
   ],
   "source": [
    "%%time\n",
    "\n",
    "##############     BOTH TSS & HILBERT     ##################\n",
    "\n",
    "# TRY TO PLOT QUASIERNGY W.R.T. number of QUASIMODES\n",
    "\n",
    "from matplotlib.gridspec import GridSpec\n",
    "import matplotlib.pyplot as plt\n",
    "import pandas as pd\n",
    "\n",
    "def convert_to_float_with_decimal_points(arr, n):\n",
    "    result = []\n",
    "    for item in arr:\n",
    "        # Using the round() function to round to n decimal points\n",
    "        rounded_float = round(item, n)\n",
    "        result.append(rounded_float)\n",
    "    return np.array(result)\n",
    "\n",
    "lgndfnt = 10        # Legend font size\n",
    "fnt = 14            # Global font size\n",
    "\n",
    "plt.rcParams.update({\"figure.figsize\": (10.0, 4.0),\n",
    "                     \"text.usetex\": True,\n",
    "                     \"font.family\": \"sans-serif\",\n",
    "                     \"font.size\": fnt,\n",
    "                     \"font.sans-serif\": [\"Computer Modern\"]})\n",
    "\n",
    "fig, axs = plt.subplots(1, 2, sharey=True, sharex=False)\n",
    "plt.subplots_adjust(wspace=0.03)\n",
    "\n",
    "\n",
    "rs = []\n",
    "for i in range(0,len(ws)):\n",
    "    w = flq_tss[i][0]\n",
    "    modes = np.array(flq_tss[i][1])[:,:,0]\n",
    "    size = flq_tss[i][3]\n",
    "    qes = np.array(flq_tss[i][2])\n",
    "    \n",
    "    lvl = np.diff(np.sort(qes))\n",
    "    \n",
    "    rs.append(np.average(np.array([(min(lvl[j+1],\\\n",
    "                                        lvl[j])/max(lvl[j+1],lvl[j]))\\\n",
    "                                   for j in range(int(len(lvl)-1))])))\n",
    "    \n",
    "axs[0].plot(ws, rs, color = 'black', linewidth = 1.5, label = r\"$TSS$\") \n",
    "axs[0].set_xlabel(r\"$\\omega$\", fontsize=18)\n",
    "axs[0].set_ylabel(r\"$\\langle r \\rangle _{avg}$\", fontsize=18)\n",
    "axs[0].axhline(y=.536, linestyle = '--', color = 'red')\n",
    "axs[0].axhline(y=.386, linestyle = '--', color = 'red')\n",
    "axs[0].tick_params(which='both',axis=\"x\", direction=\"in\")\n",
    "axs[0].tick_params(which='both',axis=\"y\", direction=\"in\")\n",
    "axs[0].legend(frameon = False, labelcolor = r\"blue\")\n",
    "\n",
    "\n",
    "rs = []\n",
    "for i in range(0,len(ws)):    \n",
    "    w = flq_hilbert[i][0]\n",
    "    modes = np.array(flq_hilbert[i][1])[:,:,0]\n",
    "    qes = np.array(flq_hilbert[i][2])\n",
    "    size = flq_hilbert[i][3]\n",
    "    \n",
    "    lvl = np.diff(np.sort(qes))  \n",
    "    r = []\n",
    "    \n",
    "    for j in range(int(len(lvl)-1)):\n",
    "        mn = min(lvl[j+1],lvl[j])\n",
    "        mx = max(lvl[j+1],lvl[j])\n",
    "        r.append(mn/mx)\n",
    "    rs.append(np.average(np.array(r)))\n",
    "    \n",
    "axs[1].plot(ws, rs, color = 'black', linewidth = 1.5, label= r\"$Hilbert$\") \n",
    "axs[1].set_xlabel(r\"$\\omega$\", fontsize=18)\n",
    "axs[1].axhline(y=.527, linestyle = '--', color = 'red')\n",
    "axs[1].axhline(y=.38, linestyle = '--', color = 'red')\n",
    "axs[1].tick_params(which='both',axis=\"x\", direction=\"in\")\n",
    "axs[1].tick_params(which='both',axis=\"y\", direction=\"in\")\n",
    "axs[1].legend(frameon = False, labelcolor = 'blue')\n",
    "\n",
    "#figname = \"lvl_stat\" + str(n_t) + \"_tss.jpeg\"\n",
    "#plt.savefig(figname, bbox_inches='tight', pad_inches=0.0, dpi = 600)\n",
    "\n",
    "plt.show()"
   ]
  }
 ],
 "metadata": {
  "kernelspec": {
   "display_name": "Python 3 (ipykernel)",
   "language": "python",
   "name": "python3"
  },
  "language_info": {
   "codemirror_mode": {
    "name": "ipython",
    "version": 3
   },
   "file_extension": ".py",
   "mimetype": "text/x-python",
   "name": "python",
   "nbconvert_exporter": "python",
   "pygments_lexer": "ipython3",
   "version": "3.8.16"
  }
 },
 "nbformat": 4,
 "nbformat_minor": 5
}
